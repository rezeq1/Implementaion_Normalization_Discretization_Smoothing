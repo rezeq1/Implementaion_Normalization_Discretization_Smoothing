{
 "cells": [
  {
   "cell_type": "code",
   "execution_count": 1,
   "metadata": {},
   "outputs": [
    {
     "name": "stdout",
     "output_type": "stream",
     "text": [
      "enter a number : 5\n",
      "0\n",
      "5\n"
     ]
    }
   ],
   "source": [
    "num =int(input(\"enter a number : \"))\n",
    "count1=0\n",
    "count2=0\n",
    "while num!=0:\n",
    "    digit=num%10\n",
    "    num=num//10\n",
    "    if digit%2==0:\n",
    "        count1+=digit\n",
    "    else:\n",
    "        count2+=digit\n",
    "print(count1)\n",
    "print(count2)"
   ]
  },
  {
   "cell_type": "markdown",
   "metadata": {},
   "source": [
    "# Normalization"
   ]
  },
  {
   "cell_type": "markdown",
   "metadata": {},
   "source": [
    "###  Min-max"
   ]
  },
  {
   "cell_type": "code",
   "execution_count": 1,
   "metadata": {},
   "outputs": [
    {
     "data": {
      "text/plain": [
       "[0.0, 0.25, 0.5, 0.75, 1.0]"
      ]
     },
     "execution_count": 1,
     "metadata": {},
     "output_type": "execute_result"
    }
   ],
   "source": [
    "#min-max-normalisation function\n",
    "def Min_Max(data):\n",
    "    min_value=min(data)\n",
    "    max_value=max(data)\n",
    "    temp=[]\n",
    "    for i in data:\n",
    "        temp.append((i- min_value) / (max_value - min_value))\n",
    "    return temp\n",
    "Min_Max([1,2,3,4,5])"
   ]
  },
  {
   "cell_type": "markdown",
   "metadata": {},
   "source": [
    "### Decimal scaling "
   ]
  },
  {
   "cell_type": "code",
   "execution_count": 2,
   "metadata": {},
   "outputs": [
    {
     "data": {
      "text/plain": [
       "[0.012, 0.016, 0.031, 0.461]"
      ]
     },
     "execution_count": 2,
     "metadata": {},
     "output_type": "execute_result"
    }
   ],
   "source": [
    "#Decimal Scaling-normalisation function\n",
    "def Decimal_scale(data):\n",
    "    j=len(str(abs(data[0])))\n",
    "    for val in data:\n",
    "        if j<len(str(abs(val))):\n",
    "            j=len(str(abs(val)))\n",
    "    temp=[]\n",
    "    for i in data:\n",
    "        temp.append(i/10**j)\n",
    "    return temp\n",
    "Decimal_scale([12,16,31,461])"
   ]
  },
  {
   "cell_type": "markdown",
   "metadata": {},
   "source": [
    "### Z-score"
   ]
  },
  {
   "cell_type": "code",
   "execution_count": 3,
   "metadata": {},
   "outputs": [
    {
     "data": {
      "text/plain": [
       "[-1.414213562373095,\n",
       " -0.7071067811865475,\n",
       " 0.0,\n",
       " 0.7071067811865475,\n",
       " 1.414213562373095]"
      ]
     },
     "execution_count": 3,
     "metadata": {},
     "output_type": "execute_result"
    }
   ],
   "source": [
    "#Z-score -normalisation function\n",
    "from math import sqrt\n",
    "def Z_Score(data):\n",
    "    mean=sum(data)/len(data)\n",
    "    sd=sqrt(sum(list(map(lambda x: (x - mean) ** 2, data))) / len(data))\n",
    "    temp=[]\n",
    "    for i in data:\n",
    "        temp.append((i-mean)/sd)\n",
    "    return temp\n",
    "Z_Score([1,2,3,4,5])"
   ]
  },
  {
   "cell_type": "markdown",
   "metadata": {},
   "source": [
    "## Python libraries"
   ]
  },
  {
   "cell_type": "code",
   "execution_count": 22,
   "metadata": {},
   "outputs": [
    {
     "name": "stdout",
     "output_type": "stream",
     "text": [
      "[-1.41421356 -0.70710678  0.          0.70710678  1.41421356]\n"
     ]
    }
   ],
   "source": [
    "#zscore\n",
    "from scipy.stats import zscore\n",
    "print(zscore([1,2,3,4,5]))"
   ]
  },
  {
   "cell_type": "code",
   "execution_count": 24,
   "metadata": {},
   "outputs": [
    {
     "name": "stdout",
     "output_type": "stream",
     "text": [
      "[0.   0.25 0.5  0.75 1.  ]\n"
     ]
    }
   ],
   "source": [
    "#min_max_scale\n",
    "from sklearn.preprocessing import minmax_scale\n",
    "print(minmax_scale([1,2,3,4,5]))"
   ]
  },
  {
   "cell_type": "code",
   "execution_count": 34,
   "metadata": {},
   "outputs": [
    {
     "data": {
      "text/plain": [
       "array([0.02603037, 0.03470716, 0.06724512, 1.        ])"
      ]
     },
     "execution_count": 34,
     "metadata": {},
     "output_type": "execute_result"
    }
   ],
   "source": [
    "#Decimal_scale\n",
    "from sklearn import preprocessing\n",
    "preprocessing.maxabs_scale(([12,16,31,461]))"
   ]
  },
  {
   "cell_type": "markdown",
   "metadata": {},
   "source": [
    "# Discretization"
   ]
  },
  {
   "cell_type": "markdown",
   "metadata": {},
   "source": [
    "### Equal frequency "
   ]
  },
  {
   "cell_type": "code",
   "execution_count": 42,
   "metadata": {},
   "outputs": [
    {
     "data": {
      "text/plain": [
       "[[0, 1, 4, 12, 16], [16, 18, 24, 26, 29]]"
      ]
     },
     "execution_count": 42,
     "metadata": {},
     "output_type": "execute_result"
    }
   ],
   "source": [
    "def  Equal_frequency(data, k): \n",
    "    arr=[]\n",
    "    help=data.copy()\n",
    "    help.sort()\n",
    "    \n",
    "    size=int(len(data)/ k)\n",
    "    if len(data)/ k -size!=0:\n",
    "        size+=1\n",
    "        \n",
    "    for i in range(0, k-1): \n",
    "        temp = []\n",
    "        flag=0\n",
    "        for j in range(i * size, (i + 1) * size): \n",
    "            if j >= len(data): \n",
    "                flag=-1\n",
    "            if flag==0:\n",
    "                temp = temp + [help[j]]\n",
    "        arr.append(temp)\n",
    "    temp=[]\n",
    "    for i in range((k-1)*size,len(data)):\n",
    "        temp=temp+[help[i]]\n",
    "    arr.append(temp)\n",
    "    return arr\n",
    "Equal_frequency([0,4,12,16,16,18,24,26,1,29],2)\n"
   ]
  },
  {
   "cell_type": "markdown",
   "metadata": {},
   "source": [
    "###  Equal width"
   ]
  },
  {
   "cell_type": "code",
   "execution_count": 40,
   "metadata": {},
   "outputs": [
    {
     "data": {
      "text/plain": [
       "[[0, 4], [12, 16, 16, 18], [24, 26, 28]]"
      ]
     },
     "execution_count": 40,
     "metadata": {},
     "output_type": "execute_result"
    }
   ],
   "source": [
    "def  Equal_width(data, k):\n",
    "    arr=[]\n",
    "    temp=[]\n",
    "    w=int((max(data)-min(data))/k)\n",
    "    if (max(data)-min(data))/k - w!=0:\n",
    "        w+=1\n",
    "\n",
    "    for i in range(0,len(data)):\n",
    "        if data[i]<min(data)+w:\n",
    "            temp=temp+[data[i]]\n",
    "    arr.append(temp)\n",
    "            \n",
    "    for i in range(1,k-1):\n",
    "        temp=[]\n",
    "        for j in range(0,len(data)):\n",
    "            if (min(data)+w*i)<=data[j]<(min(data)+w*(i+1)):\n",
    "                temp=temp+[data[j]]\n",
    "        arr.append(temp)\n",
    "    temp=[]\n",
    "    for i in range(0,len(data)):\n",
    "        if (min(data)+w*(k-1))<=data[i]:\n",
    "            temp=temp+[data[i]]\n",
    "    arr.append(temp)\n",
    "    return arr\n",
    "    \n",
    "Equal_width([0,4,12,16,16,18,24,26,28],3)\n",
    "    \n",
    "    "
   ]
  },
  {
   "cell_type": "markdown",
   "metadata": {},
   "source": [
    "## Python libraries"
   ]
  },
  {
   "cell_type": "code",
   "execution_count": 3,
   "metadata": {},
   "outputs": [
    {
     "data": {
      "text/plain": [
       "[bin2, bin3, bin2, bin1, bin1, bin3, bin1, bin3, bin1]\n",
       "Categories (3, object): [bin1 < bin2 < bin3]"
      ]
     },
     "execution_count": 3,
     "metadata": {},
     "output_type": "execute_result"
    }
   ],
   "source": [
    "# Equal_frequency\n",
    "import pandas as pd \n",
    "pd.qcut([44,51,23,18,20,55,14,60,20],3,labels=['bin1','bin2','bin3'])\n"
   ]
  },
  {
   "cell_type": "code",
   "execution_count": 57,
   "metadata": {},
   "outputs": [
    {
     "data": {
      "text/html": [
       "<div>\n",
       "<style scoped>\n",
       "    .dataframe tbody tr th:only-of-type {\n",
       "        vertical-align: middle;\n",
       "    }\n",
       "\n",
       "    .dataframe tbody tr th {\n",
       "        vertical-align: top;\n",
       "    }\n",
       "\n",
       "    .dataframe thead th {\n",
       "        text-align: right;\n",
       "    }\n",
       "</style>\n",
       "<table border=\"1\" class=\"dataframe\">\n",
       "  <thead>\n",
       "    <tr style=\"text-align: right;\">\n",
       "      <th></th>\n",
       "      <th>rank</th>\n",
       "      <th>Equal_frequency</th>\n",
       "    </tr>\n",
       "  </thead>\n",
       "  <tbody>\n",
       "    <tr>\n",
       "      <td>0</td>\n",
       "      <td>1</td>\n",
       "      <td>bin1</td>\n",
       "    </tr>\n",
       "    <tr>\n",
       "      <td>1</td>\n",
       "      <td>5</td>\n",
       "      <td>bin1</td>\n",
       "    </tr>\n",
       "    <tr>\n",
       "      <td>2</td>\n",
       "      <td>3</td>\n",
       "      <td>bin1</td>\n",
       "    </tr>\n",
       "    <tr>\n",
       "      <td>3</td>\n",
       "      <td>15</td>\n",
       "      <td>bin3</td>\n",
       "    </tr>\n",
       "    <tr>\n",
       "      <td>4</td>\n",
       "      <td>16</td>\n",
       "      <td>bin3</td>\n",
       "    </tr>\n",
       "    <tr>\n",
       "      <td>5</td>\n",
       "      <td>18</td>\n",
       "      <td>bin3</td>\n",
       "    </tr>\n",
       "    <tr>\n",
       "      <td>6</td>\n",
       "      <td>11</td>\n",
       "      <td>bin2</td>\n",
       "    </tr>\n",
       "    <tr>\n",
       "      <td>7</td>\n",
       "      <td>0</td>\n",
       "      <td>bin1</td>\n",
       "    </tr>\n",
       "    <tr>\n",
       "      <td>8</td>\n",
       "      <td>20</td>\n",
       "      <td>bin4</td>\n",
       "    </tr>\n",
       "  </tbody>\n",
       "</table>\n",
       "</div>"
      ],
      "text/plain": [
       "   rank Equal_frequency\n",
       "0     1            bin1\n",
       "1     5            bin1\n",
       "2     3            bin1\n",
       "3    15            bin3\n",
       "4    16            bin3\n",
       "5    18            bin3\n",
       "6    11            bin2\n",
       "7     0            bin1\n",
       "8    20            bin4"
      ]
     },
     "execution_count": 57,
     "metadata": {},
     "output_type": "execute_result"
    }
   ],
   "source": [
    "# Equal_Width\n",
    "import pandas as pd \n",
    "raw_data={'rank':[1,5,3,15,16,18,11,0,20]}\n",
    "df=pd.DataFrame(raw_data)\n",
    "min_=df['rank'].min(axis = 0)\n",
    "max_=df['rank'].max(axis = 0)\n",
    "w=(int)((max_-min_)/3)\n",
    "df['Equal_frequency']=pd.cut(df['rank'],[min_-1,min_+w,min_+2*w,w*3+min_,max_],labels=['bin1','bin2','bin3','bin4'])\n",
    "df"
   ]
  },
  {
   "cell_type": "markdown",
   "metadata": {},
   "source": [
    "# Smoothing\n"
   ]
  },
  {
   "cell_type": "markdown",
   "metadata": {},
   "source": [
    "### Simple Moving Average"
   ]
  },
  {
   "cell_type": "code",
   "execution_count": 46,
   "metadata": {},
   "outputs": [
    {
     "data": {
      "text/plain": [
       "[None,\n",
       " None,\n",
       " 5.333333333333333,\n",
       " 10.666666666666666,\n",
       " 14.666666666666666,\n",
       " 16.666666666666668,\n",
       " 19.333333333333332,\n",
       " 22.666666666666668,\n",
       " 26.0]"
      ]
     },
     "execution_count": 46,
     "metadata": {},
     "output_type": "execute_result"
    }
   ],
   "source": [
    "def Simple_Moving_Average(data,window_size): \n",
    "    moving_avg=[]\n",
    "    for i in range(0,window_size-1):\n",
    "        moving_avg.append(None)\n",
    "        \n",
    "    for i in range(window_size-1,len(data)):\n",
    "        avg=sum(data[i-window_size+1:i+1])/window_size\n",
    "        moving_avg.append(avg)\n",
    "    return moving_avg\n",
    "\n",
    "Simple_Moving_Average([0,4,12,16,16,18,24,26,28],3)"
   ]
  },
  {
   "cell_type": "markdown",
   "metadata": {},
   "source": [
    "### Weighted Moving Average"
   ]
  },
  {
   "cell_type": "code",
   "execution_count": 7,
   "metadata": {},
   "outputs": [
    {
     "data": {
      "text/plain": [
       "[None,\n",
       " None,\n",
       " 7.333333333333333,\n",
       " 12.666666666666666,\n",
       " 15.333333333333334,\n",
       " 17.0,\n",
       " 20.666666666666668,\n",
       " 24.0,\n",
       " 26.666666666666668]"
      ]
     },
     "execution_count": 7,
     "metadata": {},
     "output_type": "execute_result"
    }
   ],
   "source": [
    "def Weighted_Moving_Average(data,window_size): \n",
    "    moving_avg=[]\n",
    "    for i in range(0,window_size-1):\n",
    "        moving_avg.append(None)\n",
    "\n",
    "    \n",
    "    for i in range(window_size-1,len(data)):\n",
    "        sum=0\n",
    "        index=1\n",
    "        for j in range(i-window_size+1,i+1):\n",
    "            sum+=data[j]*index\n",
    "            index+=1\n",
    "        avg=sum/(window_size*(window_size+1)/2)\n",
    "        moving_avg.append(avg)\n",
    "    return moving_avg\n",
    "Weighted_Moving_Average([0,4,12,16,16,18,24,26,28],3)"
   ]
  },
  {
   "cell_type": "markdown",
   "metadata": {},
   "source": [
    "### Exponential Moving Average "
   ]
  },
  {
   "cell_type": "code",
   "execution_count": 9,
   "metadata": {},
   "outputs": [
    {
     "data": {
      "text/plain": [
       "[0, 2.0, 7.0, 11.5, 13.75, 15.875, 19.9375, 22.96875, 25.484375]"
      ]
     },
     "execution_count": 9,
     "metadata": {},
     "output_type": "execute_result"
    }
   ],
   "source": [
    "def Exponential_Moving_Average(data,window_size): \n",
    "\n",
    "    moving_avg = []\n",
    "    j = 0\n",
    "    Alpha = 2 / float(1 + window_size)\n",
    "    moving_avg.append(0)\n",
    "\n",
    "    for i in data[1:]:\n",
    "        moving_avg.append((i - moving_avg[j]) * Alpha + moving_avg[j])\n",
    "        j = j + 1\n",
    "    return moving_avg\n",
    "\n",
    "Exponential_Moving_Average([0,4,12,16,16,18,24,26,28],3)"
   ]
  },
  {
   "cell_type": "markdown",
   "metadata": {},
   "source": [
    "### Smoothing by bin boundary"
   ]
  },
  {
   "cell_type": "code",
   "execution_count": 21,
   "metadata": {},
   "outputs": [
    {
     "data": {
      "text/plain": [
       "[[4, 4, 4, 15], [21, 21, 25, 25], [26, 26, 26, 34]]"
      ]
     },
     "execution_count": 21,
     "metadata": {},
     "output_type": "execute_result"
    }
   ],
   "source": [
    "def Smoothing_by_boundary(data,k):\n",
    "    array_avg=[]\n",
    "    help=data.copy()\n",
    "    help.sort()\n",
    "    for i in range (0,len(help),k): \n",
    "        size=int(i/k)\n",
    "        temp=[]\n",
    "        for j in range (0,k): \n",
    "            if (help[i+j]-help[i]) < (help[i+k-1]-help[i+j]): \n",
    "                temp.append(help[i]) \n",
    "            else: \n",
    "                temp.append(help[i+k-1])\n",
    "        array_avg.append(temp)\n",
    "    return array_avg\n",
    "Smoothing_by_boundary([4, 8, 9, 15, 21, 21, 24, 25, 26, 28, 29, 34],4)"
   ]
  },
  {
   "cell_type": "markdown",
   "metadata": {},
   "source": [
    "### Smoothing by bin mean"
   ]
  },
  {
   "cell_type": "code",
   "execution_count": 18,
   "metadata": {},
   "outputs": [
    {
     "data": {
      "text/plain": [
       "[[7.0, 7.0, 7.0],\n",
       " [19.0, 19.0, 19.0],\n",
       " [25.0, 25.0, 25.0],\n",
       " [30.333333333333332, 30.333333333333332, 30.333333333333332]]"
      ]
     },
     "execution_count": 18,
     "metadata": {},
     "output_type": "execute_result"
    }
   ],
   "source": [
    "def Smoothing_by_mean(data,k):\n",
    "    array_avg=[]\n",
    "    help=data.copy()\n",
    "    help.sort()\n",
    "    for i in range (0,len(data),k): \n",
    "        size=int(i/k)\n",
    "        sum=0\n",
    "        temp=[]\n",
    "        for t in range(0,k):\n",
    "            sum+=data[i+t]\n",
    "        mean=sum/k\n",
    "        for j in range(k): \n",
    "            temp.append(mean)\n",
    "        array_avg.append(temp)\n",
    "    return array_avg\n",
    "Smoothing_by_mean([4, 8, 9, 15, 21, 21, 24, 25, 26, 28, 29, 34],3)"
   ]
  },
  {
   "cell_type": "markdown",
   "metadata": {},
   "source": [
    "## Python libraries"
   ]
  },
  {
   "cell_type": "code",
   "execution_count": 24,
   "metadata": {},
   "outputs": [
    {
     "name": "stdout",
     "output_type": "stream",
     "text": [
      "       score\n",
      "0        NaN\n",
      "1        NaN\n",
      "2   5.333333\n",
      "3  10.666667\n",
      "4  14.666667\n",
      "5  16.666667\n",
      "6  19.333333\n",
      "7  22.666667\n",
      "8  26.000000\n"
     ]
    }
   ],
   "source": [
    "#Simple_Moving_Average\n",
    "import pandas as pd\n",
    "data={'score':[0,4,12,16,16,18,24,26,28]}\n",
    "df = pd.DataFrame(data)\n",
    "print(df.rolling(window=3).mean())"
   ]
  },
  {
   "cell_type": "code",
   "execution_count": 43,
   "metadata": {},
   "outputs": [
    {
     "data": {
      "text/plain": [
       "0     NaN\n",
       "1     NaN\n",
       "2     NaN\n",
       "3    10.8\n",
       "4    14.0\n",
       "5    16.4\n",
       "6    19.8\n",
       "7    22.8\n",
       "8    25.6\n",
       "Name: score, dtype: float64"
      ]
     },
     "execution_count": 43,
     "metadata": {},
     "output_type": "execute_result"
    }
   ],
   "source": [
    "#Weighted_Moving_Average\n",
    "import pandas as pd\n",
    "import numpy as np\n",
    "windwo=4\n",
    "weights = np.arange(1,windwo+1)\n",
    "data={'score':[0,4,12,16,16,18,24,26,28]}\n",
    "df = pd.DataFrame(data)\n",
    "wma= df['score'].rolling(windwo).apply(lambda x: np.dot(x, weights)/weights.sum(), raw=True)\n",
    "wma.head(20)"
   ]
  },
  {
   "cell_type": "code",
   "execution_count": 10,
   "metadata": {},
   "outputs": [
    {
     "data": {
      "text/plain": [
       "0     0.000000\n",
       "1     2.000000\n",
       "2     7.000000\n",
       "3    11.500000\n",
       "4    13.750000\n",
       "5    15.875000\n",
       "6    19.937500\n",
       "7    22.968750\n",
       "8    25.484375\n",
       "Name: score, dtype: float64"
      ]
     },
     "execution_count": 10,
     "metadata": {},
     "output_type": "execute_result"
    }
   ],
   "source": [
    "#Exponential_Moving_Average\n",
    "import pandas as pd\n",
    "data={'score':[0,4,12,16,16,18,24,26,28]}\n",
    "df = pd.DataFrame(data)\n",
    "ema = df['score'].ewm(span=3, adjust=False).mean()\n",
    "ema"
   ]
  },
  {
   "cell_type": "code",
   "execution_count": 2,
   "metadata": {},
   "outputs": [
    {
     "data": {
      "text/plain": [
       "BinnedStatisticResult(statistic=array([ 5.33333333, 16.66666667, 26.        ]), bin_edges=array([ 0., 13., 19., 28.]), binnumber=array([1, 1, 1, 2, 2, 2, 3, 3, 3], dtype=int64))"
      ]
     },
     "execution_count": 2,
     "metadata": {},
     "output_type": "execute_result"
    }
   ],
   "source": [
    "#Smoothing_by_means\n",
    "from scipy.stats import binned_statistic\n",
    "import pandas as pd\n",
    "data=[0,4,12,16,16,18,24,26,28]\n",
    "data.sort()\n",
    "min_=min(data)\n",
    "max_=max(data)\n",
    "edges=[min_,data[2]+1,data[5]+1,max_]\n",
    "bin_means = binned_statistic( data,data,\"mean\",edges)\n",
    "bin_means"
   ]
  }
 ],
 "metadata": {
  "kernelspec": {
   "display_name": "Python 3",
   "language": "python",
   "name": "python3"
  },
  "language_info": {
   "codemirror_mode": {
    "name": "ipython",
    "version": 3
   },
   "file_extension": ".py",
   "mimetype": "text/x-python",
   "name": "python",
   "nbconvert_exporter": "python",
   "pygments_lexer": "ipython3",
   "version": "3.7.4"
  }
 },
 "nbformat": 4,
 "nbformat_minor": 2
}
